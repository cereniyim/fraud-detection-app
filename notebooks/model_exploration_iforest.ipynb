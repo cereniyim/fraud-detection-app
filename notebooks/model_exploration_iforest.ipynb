{
 "cells": [
  {
   "cell_type": "code",
   "execution_count": null,
   "id": "initial_id",
   "metadata": {
    "ExecuteTime": {
     "end_time": "2023-10-17T13:21:19.036631Z",
     "start_time": "2023-10-17T13:21:18.566349Z"
    }
   },
   "outputs": [],
   "source": [
    "import pandas as pd\n",
    "\n",
    "# data visualization libraries\n",
    "import matplotlib.pyplot as plt\n",
    "import seaborn as sns\n",
    "from IPython.core.pylabtools import figsize\n",
    "\n",
    "%matplotlib inline\n",
    "# to display visuals in the notebook\n",
    "\n",
    "%config InlineBackend.figure_format='retina'\n",
    "#to enable high resolution plots\n",
    "\n",
    "from sklearn.preprocessing import StandardScaler"
   ]
  },
  {
   "cell_type": "code",
   "execution_count": null,
   "id": "d7b800a9f10e7ea7",
   "metadata": {
    "ExecuteTime": {
     "end_time": "2023-10-17T13:21:21.085037Z",
     "start_time": "2023-10-17T13:21:20.916489Z"
    },
    "collapsed": false,
    "jupyter": {
     "outputs_hidden": false
    }
   },
   "outputs": [],
   "source": [
    "path = \"/Users/cereniyim/GitHub/anomaly-detection-model/transfer_tx_btw_18183000_18183050_v2.csv\"\n",
    "# path = \"/Users/cereniyim/GitHub/anomaly-detection-model/transfer_tx_btw_18370600_18370660_v2.csv\"\n",
    "inference_path = \"/Users/cereniyim/GitHub/anomaly-detection-model/transfer_tx_btw_18370728_18370788_v2.csv\"\n",
    "\n",
    "txs = pd.read_csv(path)\n",
    "inference_txs = pd.read_csv(inference_path)\n",
    "txs.info()"
   ]
  },
  {
   "cell_type": "code",
   "execution_count": null,
   "id": "79fc27947255e5f4",
   "metadata": {
    "ExecuteTime": {
     "end_time": "2023-10-17T13:22:12.582655Z",
     "start_time": "2023-10-17T13:22:12.574766Z"
    },
    "collapsed": false,
    "jupyter": {
     "outputs_hidden": false
    }
   },
   "outputs": [],
   "source": [
    "txs.head()"
   ]
  },
  {
   "cell_type": "code",
   "execution_count": null,
   "id": "37ed9c2e0b40a579",
   "metadata": {
    "ExecuteTime": {
     "end_time": "2023-10-17T13:22:13.576291Z",
     "start_time": "2023-10-17T13:22:13.445769Z"
    },
    "collapsed": false,
    "jupyter": {
     "outputs_hidden": false
    }
   },
   "outputs": [],
   "source": [
    "txs = txs.dropna(\n",
    "    subset=[\"token\", \"value\"],\n",
    "    how=\"any\"\n",
    ").reset_index(drop=True)  # drop True here maybe\n",
    "txs = txs.drop_duplicates()"
   ]
  },
  {
   "cell_type": "code",
   "execution_count": null,
   "id": "6506d22b7244121",
   "metadata": {
    "ExecuteTime": {
     "end_time": "2023-10-17T13:22:16.760727Z",
     "start_time": "2023-10-17T13:22:16.661258Z"
    },
    "collapsed": false,
    "jupyter": {
     "outputs_hidden": false
    }
   },
   "outputs": [],
   "source": [
    "txs.info()"
   ]
  },
  {
   "cell_type": "code",
   "execution_count": null,
   "id": "9c160064-27c2-469f-8ed4-8d045a7b1b76",
   "metadata": {},
   "outputs": [],
   "source": [
    "inference_txs = inference_txs.dropna(\n",
    "    subset=[\"token\", \"value\"],\n",
    "    how=\"any\"\n",
    ").reset_index(drop=True)  # drop True here maybe\n",
    "inference_txs.info()"
   ]
  },
  {
   "cell_type": "code",
   "execution_count": null,
   "id": "6ab74560-60c1-467c-b03d-3fd6d4987030",
   "metadata": {},
   "outputs": [],
   "source": [
    "inference_txs = inference_txs.drop_duplicates()"
   ]
  },
  {
   "cell_type": "code",
   "execution_count": null,
   "id": "b5803a6d54dbcb48",
   "metadata": {
    "ExecuteTime": {
     "end_time": "2023-10-17T13:22:19.469589Z",
     "start_time": "2023-10-17T13:22:19.364743Z"
    },
    "collapsed": false,
    "jupyter": {
     "outputs_hidden": false
    }
   },
   "outputs": [],
   "source": [
    "inference_txs.describe()"
   ]
  },
  {
   "cell_type": "code",
   "execution_count": null,
   "id": "f6a5e120-ffce-495d-ba06-fc55ba2a7312",
   "metadata": {},
   "outputs": [],
   "source": [
    "inference_txs.describe()"
   ]
  },
  {
   "cell_type": "code",
   "execution_count": null,
   "id": "6dedf3892d328cef",
   "metadata": {
    "ExecuteTime": {
     "end_time": "2023-10-17T13:22:24.370053Z",
     "start_time": "2023-10-17T13:22:24.358381Z"
    },
    "collapsed": false,
    "jupyter": {
     "outputs_hidden": false
    }
   },
   "outputs": [],
   "source": [
    "import numpy as np\n",
    "\n",
    "\n",
    "def apply_log1p_transformation(dataframe, column):\n",
    "    '''This function takes a dataframe and a column in the string format\n",
    "    then applies numpy log1p transformation to the column\n",
    "    as a result returns log1p applied pandas series'''\n",
    "\n",
    "    dataframe[\"log_\" + column] = np.log1p(dataframe[column])\n",
    "    return dataframe[\"log_\" + column]"
   ]
  },
  {
   "cell_type": "code",
   "execution_count": null,
   "id": "49976525-fee0-4521-a2f9-8770d4973dc8",
   "metadata": {},
   "outputs": [],
   "source": [
    "# add gas_cost column\n",
    "\n",
    "txs[\"gas_cost_in_gwei\"] = (txs[\"gas_used\"] * txs[\"gas_price\"]) / (10 ** 6)\n",
    "txs[\"gas_cost_in_eth\"] = (txs[\"gas_used\"] * txs[\"gas_price\"]) / (10 ** 18)"
   ]
  },
  {
   "cell_type": "code",
   "execution_count": null,
   "id": "1846bbe51057a13b",
   "metadata": {
    "ExecuteTime": {
     "end_time": "2023-10-17T13:22:28.852089Z",
     "start_time": "2023-10-17T13:22:28.755962Z"
    },
    "collapsed": false,
    "jupyter": {
     "outputs_hidden": false
    }
   },
   "outputs": [],
   "source": [
    "apply_log1p_transformation(txs, \"value\")\n",
    "apply_log1p_transformation(txs, \"gas_used\")\n",
    "apply_log1p_transformation(txs, \"gas_price\")\n",
    "apply_log1p_transformation(txs, \"gas_cost_in_gwei\")\n",
    "apply_log1p_transformation(txs, \"gas_cost_in_eth\")\n",
    "txs.head()"
   ]
  },
  {
   "cell_type": "code",
   "execution_count": null,
   "id": "6dc0a05c-cc43-49ae-adc6-1fdda5f6b8d8",
   "metadata": {},
   "outputs": [],
   "source": [
    "# add gas_cost column\n",
    "\n",
    "inference_txs[\"gas_cost_in_gwei\"] = (inference_txs[\"gas_used\"] * inference_txs[\"gas_price\"]) / (10 ** 6)\n",
    "inference_txs[\"gas_cost_in_eth\"] = (inference_txs[\"gas_used\"] * inference_txs[\"gas_price\"]) / (10 ** 18)\n",
    "\n",
    "apply_log1p_transformation(inference_txs, \"value\")\n",
    "apply_log1p_transformation(inference_txs, \"gas_used\")\n",
    "apply_log1p_transformation(inference_txs, \"gas_price\")\n",
    "apply_log1p_transformation(inference_txs, \"gas_cost_in_gwei\")\n",
    "apply_log1p_transformation(inference_txs, \"gas_cost_in_eth\")\n",
    "inference_txs.head()"
   ]
  },
  {
   "cell_type": "code",
   "execution_count": null,
   "id": "ff3f0a3ec9b1c613",
   "metadata": {
    "ExecuteTime": {
     "end_time": "2023-10-17T13:22:33.674648Z",
     "start_time": "2023-10-17T13:22:33.123206Z"
    },
    "collapsed": false,
    "jupyter": {
     "outputs_hidden": false
    }
   },
   "outputs": [],
   "source": [
    "from plotly.subplots import make_subplots\n",
    "import plotly.graph_objects as go\n",
    "\n",
    "fig = make_subplots(rows=3, cols=1,\n",
    "                    subplot_titles=(\"Log Value\",\n",
    "                                    \"Log Gas Gwei\",\n",
    "                                    \"Log Gas ETH\"))\n",
    "\n",
    "fig.append_trace(go.Histogram(x=txs.value),\n",
    "                 row=1, col=1)\n",
    "\n",
    "fig.append_trace(go.Histogram(x=txs.gas_cost_in_gwei),\n",
    "                 row=2, col=1)\n",
    "\n",
    "fig.append_trace(go.Histogram(x=txs.gas_cost_in_eth),\n",
    "                 row=3, col=1)\n",
    "\n",
    "fig.update_layout(height=800, width=800,\n",
    "                  title_text=\"Distribution of the Features after Logarithm Transformation\")\n",
    "\n",
    "fig.show()"
   ]
  },
  {
   "cell_type": "code",
   "execution_count": null,
   "id": "e937eed7-51bb-4791-a617-b96c13828548",
   "metadata": {},
   "outputs": [],
   "source": [
    "import plotly.express as px\n",
    "\n",
    "# visualize log_transformation customer segments with a 3D plot\n",
    "fig = px.scatter(txs,\n",
    "                    x=\"log_value\",\n",
    "                    y=\"log_gas_cost_in_eth\",\n",
    "                    # color='clusters',\n",
    "                    hover_data=[\"tx_hash\",\n",
    "                                \"value\",\n",
    "                                \"token\"]\n",
    "                    )\n",
    "\n",
    "fig.update_layout(margin=dict(l=0, r=0, b=0, t=0))\n",
    "fig.show()"
   ]
  },
  {
   "cell_type": "code",
   "execution_count": null,
   "id": "84fff2b5010b8f37",
   "metadata": {
    "ExecuteTime": {
     "end_time": "2023-10-17T14:13:21.709160Z",
     "start_time": "2023-10-17T14:13:20.991320Z"
    },
    "collapsed": false,
    "jupyter": {
     "outputs_hidden": false
    }
   },
   "outputs": [],
   "source": [
    "from sklearn.ensemble import IsolationForest\n",
    "\n",
    "# create isolation forest model\n",
    "model = IsolationForest(\n",
    "    # bootstrap=True,\n",
    "    random_state=42,\n",
    "    contamination=0.001,\n",
    "    # n_estimators=100,\n",
    ")"
   ]
  },
  {
   "cell_type": "code",
   "execution_count": null,
   "id": "6d81ae4d3024e810",
   "metadata": {
    "ExecuteTime": {
     "end_time": "2023-10-17T13:23:11.770667Z",
     "start_time": "2023-10-17T13:23:11.115888Z"
    },
    "collapsed": false,
    "jupyter": {
     "outputs_hidden": false
    }
   },
   "outputs": [],
   "source": [
    "txs.iloc[:, -3:]"
   ]
  },
  {
   "cell_type": "code",
   "execution_count": null,
   "id": "1043f4b77eb8fdd5",
   "metadata": {
    "ExecuteTime": {
     "end_time": "2023-10-17T13:23:24.489249Z",
     "start_time": "2023-10-17T13:23:24.476943Z"
    },
    "collapsed": false,
    "jupyter": {
     "outputs_hidden": false
    }
   },
   "outputs": [],
   "source": [
    "training_data = txs[[\"value\", \"gas_cost_in_eth\"]]"
   ]
  },
  {
   "cell_type": "code",
   "execution_count": null,
   "id": "a395cc1a-bd29-4679-ba32-8a5c84494884",
   "metadata": {},
   "outputs": [],
   "source": [
    "inference_data = inference_txs[[\"value\", \"gas_cost_in_eth\"]]"
   ]
  },
  {
   "cell_type": "code",
   "execution_count": null,
   "id": "3c28acb6fcbc2975",
   "metadata": {
    "ExecuteTime": {
     "end_time": "2023-10-17T13:23:25.123267Z",
     "start_time": "2023-10-17T13:23:25.093351Z"
    },
    "collapsed": false,
    "jupyter": {
     "outputs_hidden": false
    }
   },
   "outputs": [],
   "source": [
    "# training_data.head()"
   ]
  },
  {
   "cell_type": "code",
   "execution_count": null,
   "id": "efb5e7bddc30d875",
   "metadata": {
    "ExecuteTime": {
     "end_time": "2023-10-17T13:23:41.721686Z",
     "start_time": "2023-10-17T13:23:41.042123Z"
    },
    "collapsed": false,
    "jupyter": {
     "outputs_hidden": false
    }
   },
   "outputs": [],
   "source": [
    "# training_data = txs.iloc[:, -3:]"
   ]
  },
  {
   "cell_type": "code",
   "execution_count": null,
   "id": "23376f80865c446d",
   "metadata": {
    "ExecuteTime": {
     "end_time": "2023-10-17T13:23:44.703122Z",
     "start_time": "2023-10-17T13:23:44.585478Z"
    },
    "collapsed": false,
    "jupyter": {
     "outputs_hidden": false
    }
   },
   "outputs": [],
   "source": [
    "# scaler = StandardScaler()\n",
    "\n",
    "# scaled_training_data = scaler.fit_transform(training_data)\n",
    "# scaled_training_data"
   ]
  },
  {
   "cell_type": "code",
   "execution_count": null,
   "id": "de9b903e59c33ac8",
   "metadata": {
    "ExecuteTime": {
     "end_time": "2023-10-17T14:13:27.728293Z",
     "start_time": "2023-10-17T14:13:27.031820Z"
    },
    "collapsed": false,
    "jupyter": {
     "outputs_hidden": false
    }
   },
   "outputs": [],
   "source": [
    "fitted_model = model.fit(training_data)"
   ]
  },
  {
   "cell_type": "code",
   "execution_count": null,
   "id": "53376965ea37e56e",
   "metadata": {
    "ExecuteTime": {
     "end_time": "2023-10-17T14:13:29.497942Z",
     "start_time": "2023-10-17T14:13:29.314158Z"
    },
    "collapsed": false,
    "jupyter": {
     "outputs_hidden": false
    }
   },
   "outputs": [],
   "source": [
    "labels = fitted_model.predict(inference_data)"
   ]
  },
  {
   "cell_type": "code",
   "execution_count": null,
   "id": "e207476b-7140-4d38-af41-d78340b9b218",
   "metadata": {},
   "outputs": [],
   "source": [
    "fitted_model.score_samples(inference_data)"
   ]
  },
  {
   "cell_type": "code",
   "execution_count": null,
   "id": "cd5880d8af7fbfb3",
   "metadata": {
    "ExecuteTime": {
     "end_time": "2023-10-17T14:13:32.805996Z",
     "start_time": "2023-10-17T14:13:32.677656Z"
    },
    "collapsed": false,
    "jupyter": {
     "outputs_hidden": false
    }
   },
   "outputs": [],
   "source": [
    "inference_txs[\"clusters\"] = labels\n",
    "inference_txs[\"anomaly_scores\"] = fitted_model.score_samples(inference_data)\n",
    "inference_txs.describe()"
   ]
  },
  {
   "cell_type": "code",
   "execution_count": null,
   "id": "1aaf5f80efc8edcc",
   "metadata": {
    "ExecuteTime": {
     "end_time": "2023-10-17T14:13:37.565794Z",
     "start_time": "2023-10-17T14:13:37.497205Z"
    },
    "collapsed": false,
    "jupyter": {
     "outputs_hidden": false
    }
   },
   "outputs": [],
   "source": [
    "inference_txs.head()"
   ]
  },
  {
   "cell_type": "code",
   "execution_count": null,
   "id": "d84f8cde3a3ea8f",
   "metadata": {
    "ExecuteTime": {
     "end_time": "2023-10-17T14:16:05.441798Z",
     "start_time": "2023-10-17T14:16:05.105695Z"
    },
    "collapsed": false,
    "jupyter": {
     "outputs_hidden": false
    }
   },
   "outputs": [],
   "source": [
    "import plotly.express as px\n",
    "\n",
    "# visualize log_transformation customer segments with a 3D plot\n",
    "#fig = px.scatter_3d(txs,\n",
    "#                    x=\"log_value\",\n",
    "#                    y=\"log_gas_used\",\n",
    "#                    z=\"log_gas_price\",\n",
    "#                    color='clusters',\n",
    "#                    hover_data=[\"tx_hash\",\n",
    "#                                \"value\",\n",
    "#                                \"token\",\n",
    "#                                \"gas_price\",\n",
    "#                                \"gas_used\",\n",
    "#                               ],\n",
    "#                    # category_orders = {\"cluster_name\": \n",
    "#                    #                    [\"0\", \"1\", \"2\", \"3\"]},\n",
    "#                    )\n",
    "\n",
    "#fig.update_layout(margin=dict(l=0, r=0, b=0, t=0))\n",
    "#fig.show()"
   ]
  },
  {
   "cell_type": "code",
   "execution_count": null,
   "id": "d877b9f3-16f7-49bb-a100-b12be727e536",
   "metadata": {},
   "outputs": [],
   "source": [
    "import plotly.express as px\n",
    "\n",
    "# visualize log_transformation customer segments with a 3D plot\n",
    "fig = px.scatter(inference_txs,\n",
    "                    x=\"log_value\",\n",
    "                    y=\"log_gas_cost_in_eth\",\n",
    "                    color='clusters',\n",
    "                    hover_data=[\"tx_hash\",\n",
    "                                \"value\",\n",
    "                                \"token\",\n",
    "                               \"anomaly_scores\"]\n",
    "                    )\n",
    "\n",
    "fig.update_layout(margin=dict(l=0, r=0, b=0, t=0))\n",
    "fig.show()"
   ]
  },
  {
   "cell_type": "code",
   "execution_count": null,
   "id": "3576a52ae3843ac4",
   "metadata": {
    "collapsed": false,
    "jupyter": {
     "outputs_hidden": false
    }
   },
   "outputs": [],
   "source": [
    "pd.set_option('display.float_format',  '{:,}'.format)\n",
    "pd.set_option('display.precision', 5)\n",
    "\n",
    "inference_txs[inference_txs[\"clusters\"] == -1][[\"tx_hash\", \"value\", \"token\", \"gas_cost_in_eth\", \"clusters\", \"anomaly_scores\"]]"
   ]
  },
  {
   "cell_type": "code",
   "execution_count": null,
   "id": "c9962614-367d-458b-a536-e1645aea9c05",
   "metadata": {},
   "outputs": [],
   "source": []
  },
  {
   "cell_type": "code",
   "execution_count": null,
   "id": "d28381c6-6810-4292-ba38-eb8514aa3589",
   "metadata": {},
   "outputs": [],
   "source": [
    "inference_txs.iloc[11558]#[\"tx_hash\"]"
   ]
  },
  {
   "cell_type": "code",
   "execution_count": null,
   "id": "80505d15-2b28-4c42-b949-984e421b220c",
   "metadata": {},
   "outputs": [],
   "source": [
    "import sklearn.tree as tree\n",
    "import pydotplus\n",
    "\n",
    "from six import StringIO\n",
    "from IPython.display import Image\n",
    "\n",
    "import os"
   ]
  },
  {
   "cell_type": "code",
   "execution_count": null,
   "id": "6031f75f-ddb5-4f1c-92c5-65cca52226e9",
   "metadata": {},
   "outputs": [],
   "source": [
    "single_tree = fitted_model.estimators_[99]"
   ]
  },
  {
   "cell_type": "code",
   "execution_count": null,
   "id": "e0d2e643-fbc9-412a-9cc7-bb15a4ae3b24",
   "metadata": {},
   "outputs": [],
   "source": [
    "tree.plot_tree(single_tree)"
   ]
  },
  {
   "cell_type": "code",
   "execution_count": null,
   "id": "d0bcf8de-35ba-4d12-9488-bea2a283f53b",
   "metadata": {},
   "outputs": [],
   "source": [
    "single_tree.tree_.max_depth"
   ]
  },
  {
   "cell_type": "code",
   "execution_count": null,
   "id": "7f53bb21-3ba2-4cf4-9896-886664cf77ae",
   "metadata": {},
   "outputs": [],
   "source": [
    "dot_data = StringIO()\n",
    "tree.export_graphviz(single_tree,\n",
    "                     out_file=dot_data,\n",
    "                     feature_names=[\"value\", \"gas_cost_in_eth\"],\n",
    "                     filled=True,\n",
    "                     rounded=True,\n",
    "                     special_characters=True, \n",
    "                     max_depth = 4 # single_tree.tree_.max_depth #  4\n",
    "                    )"
   ]
  },
  {
   "cell_type": "code",
   "execution_count": null,
   "id": "34374cb1-67cb-48e2-9fdc-b737da9ef74c",
   "metadata": {},
   "outputs": [],
   "source": [
    "graph = pydotplus.graph_from_dot_data(dot_data.getvalue())\n",
    "Image(graph.create_png())"
   ]
  },
  {
   "cell_type": "code",
   "execution_count": null,
   "id": "381b0ba1-0712-496a-afb1-391bd42b0055",
   "metadata": {},
   "outputs": [],
   "source": []
  }
 ],
 "metadata": {
  "kernelspec": {
   "display_name": "Python 3 (ipykernel)",
   "language": "python",
   "name": "python3"
  },
  "language_info": {
   "codemirror_mode": {
    "name": "ipython",
    "version": 3
   },
   "file_extension": ".py",
   "mimetype": "text/x-python",
   "name": "python",
   "nbconvert_exporter": "python",
   "pygments_lexer": "ipython3",
   "version": "3.9.18"
  }
 },
 "nbformat": 4,
 "nbformat_minor": 5
}
